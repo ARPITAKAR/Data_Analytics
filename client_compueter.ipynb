{
 "cells": [
  {
   "cell_type": "code",
   "execution_count": 1,
   "id": "8a7bafff",
   "metadata": {},
   "outputs": [],
   "source": [
    "####  steps\n",
    "# - imports csv file into a pandas df\n",
    "# - clean the table name and remove extra name,symbols,spaces,capital letters\n",
    "# - clean the column haedears and remove the extra symbols,spaces,capital letters\n",
    "# - write the create table sql staetement\n",
    "# - imports the data into the db"
   ]
  },
  {
   "cell_type": "code",
   "execution_count": 2,
   "id": "41fabd66",
   "metadata": {},
   "outputs": [],
   "source": [
    "import os\n",
    "import numpy as np\n",
    "import pandas as pd\n",
    "import psycopg2 \n",
    "# used to connect to postgres datbase as our  data base is a postgres database\n"
   ]
  },
  {
   "cell_type": "code",
   "execution_count": 3,
   "id": "9d32eff6",
   "metadata": {},
   "outputs": [
    {
     "name": "stdout",
     "output_type": "stream",
     "text": [
      " Volume in drive C has no label.\n",
      " Volume Serial Number is CEBB-78D3\n",
      "\n",
      " Directory of C:\\Users\\Arpit Akar\n",
      "\n",
      "11-04-2023  14:59    <DIR>          .\n",
      "11-04-2023  14:59    <DIR>          ..\n",
      "10-03-2023  17:30    <DIR>          .astropy\n",
      "10-03-2023  15:01    <DIR>          .conda\n",
      "26-01-2023  09:14    <DIR>          .continuum\n",
      "01-04-2023  21:48    <DIR>          .ipynb_checkpoints\n",
      "26-01-2023  09:15    <DIR>          .ipython\n",
      "27-01-2023  21:45    <DIR>          .jupyter\n",
      "26-01-2023  09:15    <DIR>          .matplotlib\n",
      "15-03-2023  17:57                56 .scala_history\n",
      "29-03-2023  22:58    <DIR>          .spyder-py3\n",
      "21-01-2023  07:39    <DIR>          3D Objects\n",
      "29-03-2023  22:51               453 client.py\n",
      "11-04-2023  14:21            24,475 client_compueter.ipynb\n",
      "21-01-2023  07:39    <DIR>          Contacts\n",
      "12-03-2023  00:07            90,448 COREY_vro.ipynb\n",
      "30-11-2020  00:34             3,243 csv_import_functions.py\n",
      "11-04-2023  13:52               436 customer_contracts.csv\n",
      "11-04-2023  14:03    <DIR>          datasets\n",
      "11-04-2023  08:58    <DIR>          Desktop\n",
      "27-03-2023  19:53    <DIR>          Documents\n",
      "11-04-2023  16:54    <DIR>          Downloads\n",
      "21-01-2023  07:39    <DIR>          Favorites\n",
      "26-01-2023  14:23            17,821 fisherdata.ipynb\n",
      "23-03-2023  20:19            58,703 Hypothesis testing.ipynb\n",
      "31-01-2023  12:51    <DIR>          Jedi\n",
      "21-01-2023  07:39    <DIR>          Links\n",
      "30-03-2023  12:31             2,204 main.ipynb\n",
      "25-01-2023  03:32    <DIR>          Microsoft\n",
      "21-01-2023  07:39    <DIR>          Music\n",
      "11-04-2023  17:55    <DIR>          OneDrive\n",
      "22-03-2023  19:09    <DIR>          Pictures\n",
      "30-03-2023  12:31             1,792 README.md\n",
      "01-04-2023  23:36           516,616 regression.ipynb\n",
      "21-01-2023  07:39    <DIR>          Saved Games\n",
      "21-01-2023  07:40    <DIR>          Searches\n",
      "29-03-2023  22:51               930 server.py\n",
      "12-03-2023  22:57            31,418 ultratechnse.ipynb\n",
      "25-01-2023  21:53    <DIR>          Videos\n",
      "              13 File(s)        748,595 bytes\n",
      "              26 Dir(s)  164,102,111,232 bytes free\n"
     ]
    }
   ],
   "source": [
    "%ls"
   ]
  },
  {
   "cell_type": "code",
   "execution_count": 4,
   "id": "28c6dbd2",
   "metadata": {},
   "outputs": [],
   "source": [
    "df=pd.read_csv('E://stratascratch//DataScienceProjects//csv_to_db_automation-main//Customer Contracts$.csv')"
   ]
  },
  {
   "cell_type": "code",
   "execution_count": 5,
   "id": "1bac2caa",
   "metadata": {
    "scrolled": true
   },
   "outputs": [
    {
     "data": {
      "text/html": [
       "<div>\n",
       "<style scoped>\n",
       "    .dataframe tbody tr th:only-of-type {\n",
       "        vertical-align: middle;\n",
       "    }\n",
       "\n",
       "    .dataframe tbody tr th {\n",
       "        vertical-align: top;\n",
       "    }\n",
       "\n",
       "    .dataframe thead th {\n",
       "        text-align: right;\n",
       "    }\n",
       "</style>\n",
       "<table border=\"1\" class=\"dataframe\">\n",
       "  <thead>\n",
       "    <tr style=\"text-align: right;\">\n",
       "      <th></th>\n",
       "      <th>customer_name</th>\n",
       "      <th>start_date</th>\n",
       "      <th>end_date</th>\n",
       "      <th>contract_amount_m</th>\n",
       "      <th>invoice_sent</th>\n",
       "      <th>paid</th>\n",
       "    </tr>\n",
       "  </thead>\n",
       "  <tbody>\n",
       "    <tr>\n",
       "      <th>0</th>\n",
       "      <td>Nike</td>\n",
       "      <td>01-02-2019</td>\n",
       "      <td>12-20-2020</td>\n",
       "      <td>2.98</td>\n",
       "      <td>Yes</td>\n",
       "      <td>Yes</td>\n",
       "    </tr>\n",
       "    <tr>\n",
       "      <th>1</th>\n",
       "      <td>Reebox</td>\n",
       "      <td>06-20-2017</td>\n",
       "      <td>NaN</td>\n",
       "      <td>3.90</td>\n",
       "      <td>No</td>\n",
       "      <td>No</td>\n",
       "    </tr>\n",
       "    <tr>\n",
       "      <th>2</th>\n",
       "      <td>Adidas</td>\n",
       "      <td>12-07-2015</td>\n",
       "      <td>6-20-2018</td>\n",
       "      <td>4.82</td>\n",
       "      <td>Yes</td>\n",
       "      <td>Yes</td>\n",
       "    </tr>\n",
       "    <tr>\n",
       "      <th>3</th>\n",
       "      <td>Google</td>\n",
       "      <td>05-25-2014</td>\n",
       "      <td>03-20-2017</td>\n",
       "      <td>5.74</td>\n",
       "      <td>Yes</td>\n",
       "      <td>No</td>\n",
       "    </tr>\n",
       "    <tr>\n",
       "      <th>4</th>\n",
       "      <td>Amazon</td>\n",
       "      <td>11-10-2012</td>\n",
       "      <td>12-20-2015</td>\n",
       "      <td>6.66</td>\n",
       "      <td>No</td>\n",
       "      <td>Yes</td>\n",
       "    </tr>\n",
       "  </tbody>\n",
       "</table>\n",
       "</div>"
      ],
      "text/plain": [
       "  customer_name  start_date    end_date  contract_amount_m invoice_sent paid\n",
       "0          Nike  01-02-2019  12-20-2020               2.98          Yes  Yes\n",
       "1        Reebox  06-20-2017         NaN               3.90           No   No\n",
       "2        Adidas  12-07-2015   6-20-2018               4.82          Yes  Yes\n",
       "3        Google  05-25-2014  03-20-2017               5.74          Yes   No\n",
       "4        Amazon  11-10-2012  12-20-2015               6.66           No  Yes"
      ]
     },
     "execution_count": 5,
     "metadata": {},
     "output_type": "execute_result"
    }
   ],
   "source": [
    "df.head()"
   ]
  },
  {
   "cell_type": "code",
   "execution_count": 6,
   "id": "4e963f5d",
   "metadata": {},
   "outputs": [
    {
     "data": {
      "text/plain": [
       "'customer_contracts'"
      ]
     },
     "execution_count": 6,
     "metadata": {},
     "output_type": "execute_result"
    }
   ],
   "source": [
    "file  = 'Customer Contracts$'\n",
    "clean_tbl_name=file.lower().replace(' ','_').replace('$','').replace(r'/','')\\\n",
    "                    .replace('%','')\n",
    "clean_tbl_name"
   ]
  },
  {
   "cell_type": "code",
   "execution_count": 7,
   "id": "c276ede1",
   "metadata": {},
   "outputs": [
    {
     "data": {
      "text/plain": [
       "Index(['customer_name', 'start_date', 'end_date', 'contract_amount_m',\n",
       "       'invoice_sent', 'paid'],\n",
       "      dtype='object')"
      ]
     },
     "execution_count": 7,
     "metadata": {},
     "output_type": "execute_result"
    }
   ],
   "source": [
    "df.columns"
   ]
  },
  {
   "cell_type": "code",
   "execution_count": 8,
   "id": "5a224aba",
   "metadata": {
    "scrolled": true
   },
   "outputs": [
    {
     "data": {
      "text/plain": [
       "Index(['customer_name', 'start_date', 'end_date', 'contract_amount_m',\n",
       "       'invoice_sent', 'paid'],\n",
       "      dtype='object')"
      ]
     },
     "execution_count": 8,
     "metadata": {},
     "output_type": "execute_result"
    }
   ],
   "source": [
    "df.columns=[x.lower().replace(' ','_').replace('$','').replace('/','')\\\n",
    "                    .replace('%','').replace(r\"(\",\"\") for x in df.columns ]\n",
    "df.columns"
   ]
  },
  {
   "cell_type": "code",
   "execution_count": 9,
   "id": "633c0926",
   "metadata": {},
   "outputs": [
    {
     "ename": "SyntaxError",
     "evalue": "invalid syntax (3993961063.py, line 1)",
     "output_type": "error",
     "traceback": [
      "\u001b[1;36m  File \u001b[1;32m\"C:\\Users\\Arpit Akar\\AppData\\Local\\Temp\\ipykernel_2708\\3993961063.py\"\u001b[1;36m, line \u001b[1;32m1\u001b[0m\n\u001b[1;33m    create table customer_contracts\u001b[0m\n\u001b[1;37m           ^\u001b[0m\n\u001b[1;31mSyntaxError\u001b[0m\u001b[1;31m:\u001b[0m invalid syntax\n"
     ]
    }
   ],
   "source": [
    "create table customer_contracts \n",
    "(\n",
    "    customer_name    varchar,\n",
    "    start_date       varchar,\n",
    "    end_date         varchar,\n",
    "    contract_amount_m float,\n",
    "    invoice_sent     varchar,\n",
    "    paid             varchar\n",
    ");"
   ]
  },
  {
   "cell_type": "code",
   "execution_count": 9,
   "id": "42fbc042",
   "metadata": {},
   "outputs": [
    {
     "data": {
      "text/plain": [
       "customer_name         object\n",
       "start_date            object\n",
       "end_date              object\n",
       "contract_amount_m    float64\n",
       "invoice_sent          object\n",
       "paid                  object\n",
       "dtype: object"
      ]
     },
     "execution_count": 9,
     "metadata": {},
     "output_type": "execute_result"
    }
   ],
   "source": [
    "df.dtypes"
   ]
  },
  {
   "cell_type": "code",
   "execution_count": 10,
   "id": "d58d366e",
   "metadata": {},
   "outputs": [
    {
     "data": {
      "text/plain": [
       "{'object': 'varchar',\n",
       " 'float64': 'float',\n",
       " 'int64': 'int',\n",
       " 'datetime64': 'timestamp',\n",
       " 'timedelta4[ns]': 'varchar'}"
      ]
     },
     "execution_count": 10,
     "metadata": {},
     "output_type": "execute_result"
    }
   ],
   "source": [
    "replacements={\n",
    "    'object':'varchar',\n",
    "    'float64':'float',\n",
    "    'int64':'int',\n",
    "    'datetime64':'timestamp',\n",
    "    'timedelta4[ns]':'varchar'\n",
    "}\n",
    "replacements"
   ]
  },
  {
   "cell_type": "code",
   "execution_count": 11,
   "id": "724bba11",
   "metadata": {},
   "outputs": [],
   "source": [
    "col_str=\", \".join(\"{} {}\".format(n,d) for (n,d) in zip(df.columns,df.dtypes.replace(replacements)))\n",
    "# zipping that up because we want column name right next to data type name "
   ]
  },
  {
   "cell_type": "code",
   "execution_count": 12,
   "id": "ce5736aa",
   "metadata": {},
   "outputs": [
    {
     "data": {
      "text/plain": [
       "'customer_name varchar, start_date varchar, end_date varchar, contract_amount_m float, invoice_sent varchar, paid varchar'"
      ]
     },
     "execution_count": 12,
     "metadata": {},
     "output_type": "execute_result"
    }
   ],
   "source": [
    "col_str"
   ]
  },
  {
   "cell_type": "code",
   "execution_count": null,
   "id": "ab17098c",
   "metadata": {},
   "outputs": [],
   "source": [
    "#open a databse conncetion\n",
    "conn_string=\"host= dabaseurl \\   #adress to the database\n",
    "             dbname = 'natedb' \\ #db name\n",
    "             user='nate' password= ' #db_password\n",
    "conn= psycopg2.connect(conn_string)\n",
    "cursor = conn.cursor()\n",
    "print('opened databse successfully') "
   ]
  },
  {
   "cell_type": "code",
   "execution_count": null,
   "id": "2b35830f",
   "metadata": {},
   "outputs": [],
   "source": [
    "#drop table with same name\n",
    "cursor.execute('drop table if exists customer_contracts')"
   ]
  },
  {
   "cell_type": "code",
   "execution_count": null,
   "id": "f912bf6d",
   "metadata": {},
   "outputs": [],
   "source": [
    "#create table\n",
    " cursor.execute(\"create table customer_contracts \\\n",
    " (customer_name varchar, start_date varchar, end_date varchar, contract_amount_m float,\\\n",
    " invoice_sent varchar, paid varchar)\")"
   ]
  },
  {
   "cell_type": "code",
   "execution_count": 13,
   "id": "b7d40d3b",
   "metadata": {},
   "outputs": [],
   "source": [
    "#insert value to table\n",
    "\n",
    "\n",
    "#save df to csv\n",
    "df.to_csv('customer_contracts.csv',header=df.columns,index=False,encoding=('utf-8'))\n",
    "# headers are df.columns and we don't want indexes from pandas df to csv file encoding \n",
    "#ENCODING during import from exvel there ma be strange symbols that we say that csv file we have have encoding utf-8"
   ]
  },
  {
   "cell_type": "code",
   "execution_count": 14,
   "id": "1ef92309",
   "metadata": {},
   "outputs": [
    {
     "name": "stdout",
     "output_type": "stream",
     "text": [
      "file opened in memory\n"
     ]
    }
   ],
   "source": [
    "#open the csv file\n",
    "my_file=open('customer_contracts.csv')\n",
    "print('file opened in memory')"
   ]
  },
  {
   "cell_type": "code",
   "execution_count": 15,
   "id": "3abca730",
   "metadata": {},
   "outputs": [],
   "source": [
    "#upload to db\n",
    "SQL_STATEMENT= \"\"\"\n",
    "copy= customer_contracts from STDIN WITH \n",
    "        CSV\n",
    "        HEADER\n",
    "        DELIMITER AS ','\n",
    "\"\"\""
   ]
  },
  {
   "cell_type": "code",
   "execution_count": 16,
   "id": "3aa94dbd",
   "metadata": {},
   "outputs": [
    {
     "ename": "NameError",
     "evalue": "name 'cursor' is not defined",
     "output_type": "error",
     "traceback": [
      "\u001b[1;31m---------------------------------------------------------------------------\u001b[0m",
      "\u001b[1;31mNameError\u001b[0m                                 Traceback (most recent call last)",
      "\u001b[1;32m~\\AppData\\Local\\Temp\\ipykernel_10152\\208775801.py\u001b[0m in \u001b[0;36m<module>\u001b[1;34m\u001b[0m\n\u001b[1;32m----> 1\u001b[1;33m \u001b[0mcursor\u001b[0m\u001b[1;33m.\u001b[0m\u001b[0mcopy_expert\u001b[0m\u001b[1;33m(\u001b[0m\u001b[0msql\u001b[0m\u001b[1;33m=\u001b[0m\u001b[0mSQL_STATEMENT\u001b[0m\u001b[1;33m,\u001b[0m\u001b[0mfile\u001b[0m\u001b[1;33m=\u001b[0m\u001b[0mmy_file\u001b[0m\u001b[1;33m)\u001b[0m\u001b[1;33m\u001b[0m\u001b[1;33m\u001b[0m\u001b[0m\n\u001b[0m\u001b[0;32m      2\u001b[0m \u001b[0mprint\u001b[0m\u001b[1;33m(\u001b[0m\u001b[1;34m'file opened to db'\u001b[0m\u001b[1;33m)\u001b[0m\u001b[1;33m\u001b[0m\u001b[1;33m\u001b[0m\u001b[0m\n",
      "\u001b[1;31mNameError\u001b[0m: name 'cursor' is not defined"
     ]
    }
   ],
   "source": [
    "cursor.copy_expert(sql=SQL_STATEMENT,file=my_file)\n",
    "print('file opened to db')"
   ]
  },
  {
   "cell_type": "code",
   "execution_count": null,
   "id": "dc87cb73",
   "metadata": {},
   "outputs": [],
   "source": [
    "cursor.execute('grant select on table customer_contracts to public')\n",
    "conn.commit()\n",
    "\n",
    "conn.close()\n",
    "print('table customer_contarcts imported to sb completed')"
   ]
  },
  {
   "cell_type": "code",
   "execution_count": 17,
   "id": "47cf6544",
   "metadata": {},
   "outputs": [
    {
     "data": {
      "text/plain": [
       "<function dir>"
      ]
     },
     "execution_count": 17,
     "metadata": {},
     "output_type": "execute_result"
    }
   ],
   "source": [
    "dir"
   ]
  },
  {
   "cell_type": "code",
   "execution_count": 18,
   "id": "54195538",
   "metadata": {},
   "outputs": [
    {
     "data": {
      "text/plain": [
       "['.astropy',\n",
       " '.conda',\n",
       " '.continuum',\n",
       " '.ipynb_checkpoints',\n",
       " '.ipython',\n",
       " '.jupyter',\n",
       " '.matplotlib',\n",
       " '.scala_history',\n",
       " '.spyder-py3',\n",
       " '3D Objects',\n",
       " 'AppData',\n",
       " 'Application Data',\n",
       " 'client.py',\n",
       " 'client_compueter.ipynb',\n",
       " 'Contacts',\n",
       " 'Cookies',\n",
       " 'COREY_vro.ipynb',\n",
       " 'csv_import_functions.py',\n",
       " 'customer_contracts.csv',\n",
       " 'datasets',\n",
       " 'Desktop',\n",
       " 'Documents',\n",
       " 'Downloads',\n",
       " 'Favorites',\n",
       " 'fisherdata.ipynb',\n",
       " 'Hypothesis testing.ipynb',\n",
       " 'IntelGraphicsProfiles',\n",
       " 'Jedi',\n",
       " 'Links',\n",
       " 'Local Settings',\n",
       " 'main.ipynb',\n",
       " 'Microsoft',\n",
       " 'Music',\n",
       " 'My Documents',\n",
       " 'NetHood',\n",
       " 'NTUSER.DAT',\n",
       " 'ntuser.dat.LOG1',\n",
       " 'ntuser.dat.LOG2',\n",
       " 'NTUSER.DAT{141caef6-3708-11ed-b404-080027ec4824}.TM.blf',\n",
       " 'NTUSER.DAT{141caef6-3708-11ed-b404-080027ec4824}.TMContainer00000000000000000001.regtrans-ms',\n",
       " 'NTUSER.DAT{141caef6-3708-11ed-b404-080027ec4824}.TMContainer00000000000000000002.regtrans-ms',\n",
       " 'ntuser.ini',\n",
       " 'OneDrive',\n",
       " 'Pictures',\n",
       " 'PrintHood',\n",
       " 'README.md',\n",
       " 'Recent',\n",
       " 'regression.ipynb',\n",
       " 'Saved Games',\n",
       " 'Searches',\n",
       " 'SendTo',\n",
       " 'server.py',\n",
       " 'Start Menu',\n",
       " 'Templates',\n",
       " 'ultratechnse.ipynb',\n",
       " 'Videos']"
      ]
     },
     "execution_count": 18,
     "metadata": {},
     "output_type": "execute_result"
    }
   ],
   "source": [
    "os.listdir(os.getcwd())"
   ]
  },
  {
   "cell_type": "code",
   "execution_count": 19,
   "id": "4477e830",
   "metadata": {},
   "outputs": [],
   "source": [
    "# find csv files in my current working directory\n",
    "#isolated only csv files\n",
    "csv_files=[]\n",
    "for file in os.listdir(os.getcwd()):\n",
    "    if file.endswith('.csv'):\n",
    "        csv_files.append(file)"
   ]
  },
  {
   "cell_type": "code",
   "execution_count": 20,
   "id": "d081c844",
   "metadata": {},
   "outputs": [
    {
     "data": {
      "text/plain": [
       "['customer_contracts.csv']"
      ]
     },
     "execution_count": 20,
     "metadata": {},
     "output_type": "execute_result"
    }
   ],
   "source": [
    "csv_files"
   ]
  },
  {
   "cell_type": "code",
   "execution_count": 21,
   "id": "51fd8ddd",
   "metadata": {},
   "outputs": [],
   "source": [
    "#make a new directory\n",
    "dataset_dir= 'datasets'\n",
    "#create the bash command to amke a new directory\n",
    "#mkdir dataset_dir\n",
    "mkdir ='mkdir {0}'.format(dataset_dir)\n",
    "#{0} place holder value"
   ]
  },
  {
   "cell_type": "code",
   "execution_count": 22,
   "id": "ed7c6617",
   "metadata": {},
   "outputs": [
    {
     "data": {
      "text/plain": [
       "'mkdir datasets'"
      ]
     },
     "execution_count": 22,
     "metadata": {},
     "output_type": "execute_result"
    }
   ],
   "source": [
    "mkdir"
   ]
  },
  {
   "cell_type": "code",
   "execution_count": 23,
   "id": "5bee67dd",
   "metadata": {},
   "outputs": [],
   "source": [
    "# error handaling here because sometime there a folder exist and sometime we need error/\n",
    "#handaling to this so bypass the error itself\n",
    "try:\n",
    "    mkdir ='mkdir {0}'.format(dataset_dir)\n",
    "    os.system(mkdir)\n",
    "except:\n",
    "    pass"
   ]
  },
  {
   "cell_type": "code",
   "execution_count": 24,
   "id": "67b5beaf",
   "metadata": {},
   "outputs": [
    {
     "name": "stdout",
     "output_type": "stream",
     "text": [
      "mv customer_contracts.csv datasets\n"
     ]
    }
   ],
   "source": [
    "#move the csv files to a new directory\n",
    "#mv filename directory\n",
    "for csv in csv_files:\n",
    "    mv_file='mv {0} {1}'.format(csv,dataset_dir)\n",
    "    os.system(mv_file)\n",
    "    print(mv_file)"
   ]
  },
  {
   "cell_type": "code",
   "execution_count": 25,
   "id": "f62800ae",
   "metadata": {
    "scrolled": true
   },
   "outputs": [
    {
     "name": "stdout",
     "output_type": "stream",
     "text": [
      "mv 'customer_contracts.csv' datasets\n"
     ]
    }
   ],
   "source": [
    "# here files have sapce in there name might be readed as two files\\\n",
    "# add single quote around the file name here and doublequoteover function\n",
    "#move the csv files to a new directory\n",
    "#mv filename directory\n",
    "for csv in csv_files:\n",
    "    mv_file=\"mv '{0}' {1}\".format(csv,dataset_dir)\n",
    "    os.system(mv_file)\n",
    "    print(mv_file)"
   ]
  },
  {
   "cell_type": "code",
   "execution_count": 26,
   "id": "503fbd16",
   "metadata": {
    "scrolled": true
   },
   "outputs": [
    {
     "name": "stdout",
     "output_type": "stream",
     "text": [
      "customer_contracts.csv\n"
     ]
    }
   ],
   "source": [
    "data_path = os.getcwd()+'/'+dataset_dir+'/'\n",
    "df={}\n",
    "for file in csv_files:\n",
    "    df[file]=pd.read_csv(data_path+file)\n",
    "    print(file)"
   ]
  },
  {
   "cell_type": "code",
   "execution_count": 32,
   "id": "f084c1f2",
   "metadata": {},
   "outputs": [
    {
     "ename": "SyntaxError",
     "evalue": "EOL while scanning string literal (2670993989.py, line 27)",
     "output_type": "error",
     "traceback": [
      "\u001b[1;36m  File \u001b[1;32m\"C:\\Users\\Arpit Akar\\AppData\\Local\\Temp\\ipykernel_10152\\2670993989.py\"\u001b[1;36m, line \u001b[1;32m27\u001b[0m\n\u001b[1;33m    conn_string=\"host=%s \\   #adress to the database\u001b[0m\n\u001b[1;37m                                                    ^\u001b[0m\n\u001b[1;31mSyntaxError\u001b[0m\u001b[1;31m:\u001b[0m EOL while scanning string literal\n"
     ]
    }
   ],
   "source": [
    "for k in csv_files:\n",
    "    data_frame=df[k]\n",
    "    clean_tbl_name=k.lower().replace(' ','_').replace('$','').replace(r'/','')\\\n",
    "                        .replace('%','')\n",
    "    print(clean_tbl_name)\n",
    "    tbl_name = '{0}'.format(clean_tbl_name.split('.')[0])\n",
    "    # {0} inputing from format split on dot csv and take left part byindexing it to zero\n",
    "    print(tbl_name)\n",
    "    data_frame.columns=[x.lower().replace(' ','_').replace('$','').replace('/','')\\\n",
    "                    .replace('%','').replace(r\"(\",\"\") for x in data_frame.columns ]\n",
    "    print(data_frame.columns)\n",
    "    replacements={\n",
    "    'object':'varchar',\n",
    "    'float64':'float',\n",
    "    'int64':'int',\n",
    "    'datetime64':'timestamp',\n",
    "    'timedelta4[ns]':'varchar'\n",
    "    }\n",
    "    #table schema\n",
    "    col_str=\", \".join(\"{} {}\".format(n,d) for (n,d) in zip(data_frame.columns,data_frame.dtypes.replace(replacements)))\n",
    "    print(col_str)\n",
    "    #open a databse conncetion\n",
    "    host='http://localhost:8888/notebooks/client_compueter.ipynb'\n",
    "    dbname= 'natedb'\n",
    "    user= 'nate'\n",
    "    password='XXXX'\n",
    "    conn_string=\"host=%s \\   #adress to the database\n",
    "                 dbname = %s \\ #db name\n",
    "                 user=%s password=%s \"%(host,dbname,user,password) #db_password\n",
    "    conn= psycopg2.connect(conn_string)\n",
    "    cursor = conn.cursor()\n",
    "    print('opened databse successfully') \n",
    "    #create table\n",
    "     cursor.execute(\"create table %s (%s)\" %(tbl_name,col_str))\n",
    "    conn.commit()\n",
    "    conn.close()\n",
    "    #insert value to table\n",
    "\n",
    "\n",
    "    #save df to csv\n",
    "    df.to_csv('customer_contracts.csv',header=df.columns,index=False,encoding=('utf-8'))\n",
    "    # headers are df.columns and we don't want indexes from pandas df to csv file encoding \n",
    "    #ENCODING during import from exvel there ma be strange symbols that we say that csv file we have have encoding utf-8\n",
    "    #open the csv file\n",
    "    my_file=open[k]\n",
    "    print('file opened in memory')\n",
    "    #upload to db\n",
    "    SQL_STATEMENT= \"\"\"\n",
    "    copy= %s from STDIN WITH \n",
    "            CSV\n",
    "            HEADER\n",
    "            DELIMITER AS ','\n",
    "    \"\"\"\n",
    "    cursor.copy_expert(sql=SQL_STATEMENT,% tbl_name,file=my_file)\n",
    "    print('file copied to db')\n",
    "    cursor.execute('grant select on table %s to public' % tbl_name)\n",
    "    conn.commit()\n",
    "\n",
    "    conn.close()\n",
    "    print('table {0} imported to sb completed'.format(tbl_name))"
   ]
  },
  {
   "cell_type": "code",
   "execution_count": null,
   "id": "a68500f9",
   "metadata": {},
   "outputs": [],
   "source": [
    "#open a databse conncetion\n",
    "host='http://localhost:8888/notebooks/client_compueter.ipynb'\n",
    "dbname= 'natedb'\n",
    "user= 'nate'\n",
    "password='XXXX'\n",
    "conn_string=\"host=%s \\   #adress to the database\n",
    "             dbname = %s \\ #db name\n",
    "             user=%s password=%s \"%(host,dbname,user,password) #db_password\n",
    "conn= psycopg2.connect(conn_string)\n",
    "cursor = conn.cursor()\n",
    "print('opened databse successfully') "
   ]
  },
  {
   "cell_type": "code",
   "execution_count": null,
   "id": "648830d4",
   "metadata": {},
   "outputs": [],
   "source": [
    "#create table\n",
    " cursor.execute(\"create table %s (%s)\" %(tbl_name,col_str))"
   ]
  },
  {
   "cell_type": "code",
   "execution_count": null,
   "id": "d3a82d36",
   "metadata": {},
   "outputs": [],
   "source": []
  }
 ],
 "metadata": {
  "kernelspec": {
   "display_name": "Python 3 (ipykernel)",
   "language": "python",
   "name": "python3"
  },
  "language_info": {
   "codemirror_mode": {
    "name": "ipython",
    "version": 3
   },
   "file_extension": ".py",
   "mimetype": "text/x-python",
   "name": "python",
   "nbconvert_exporter": "python",
   "pygments_lexer": "ipython3",
   "version": "3.9.13"
  }
 },
 "nbformat": 4,
 "nbformat_minor": 5
}
